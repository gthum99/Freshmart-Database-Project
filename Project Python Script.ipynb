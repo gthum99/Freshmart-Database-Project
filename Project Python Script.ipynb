{
 "cells": [
  {
   "cell_type": "markdown",
   "id": "8f2c860f",
   "metadata": {},
   "source": [
    " ####   Python Programming\n",
    "    Write a Python program that generates a report that contains a subset of the data from your database.  Print the output to SCREEN (stdout).  Include the screen capture of the program output in your Word document report, and also post the program to your GitHub repository.  Be sure to comment your code well.\n",
    "\n",
    "    The program is just a SELECT * command that displays the contents of each table. If you have many records, you might want to look into the LIMIT option to restrict your output. Your output should be at least 3 records per table. \n",
    "\n",
    "    Remember, most of the python code already exists! You just have to modify the login components and the specific command to query your tables.  Please ask for help if you still have trouble getting your script to work.\n"
   ]
  },
  {
   "cell_type": "markdown",
   "id": "6241d2ad",
   "metadata": {},
   "source": [
    " ####   Rubric: Your work will be graded as follows:\n",
    "    •\t5 points for the script in GitHub\n",
    "    •\t5 points for successfully connecting to the database\n",
    "    •\t5 points for successfully querying it\n",
    "    •\t5 points for a screen capture of the data output on screen. \n",
    "    •\t10  points for Internal comments – they must accurately describe each of the following:\n",
    "        o\tThe purpose of the program\n",
    "        o\tThe connection to the database\n",
    "        o\tThe creation of the cursor object\n",
    "        o\tThe SQL query string and execution\n",
    "        o\tThe output components\n",
    "\n",
    "    You can either write the comment above a section of code and use white space to keep things separate, or you can write functions and just comment the function.  However, I’m looking for 5 pieces of comments.\n",
    "\n",
    "    I should be able to execute your code in a Python3 environment and see results. \n",
    "\n",
    "    Total points possible: 30\n"
   ]
  },
  {
   "cell_type": "code",
   "execution_count": 3,
   "id": "cd3e1e7b",
   "metadata": {},
   "outputs": [],
   "source": [
    "# The purpose of the code is to understand the python - database connection, where we use python script to run SQL queries "
   ]
  },
  {
   "cell_type": "code",
   "execution_count": 4,
   "id": "fce225a9",
   "metadata": {},
   "outputs": [
    {
     "name": "stdout",
     "output_type": "stream",
     "text": [
      "-----------------------------------------\n",
      "MYSQL version: 5.5.22\n"
     ]
    }
   ],
   "source": [
    "'''Here we are testing the connection with the database and printing the status of the connection'''\n",
    "import mysql.connector as mysql\n",
    " \n",
    "con = None\n",
    "try:\n",
    "    #create MYSQL connection & create commondb by default\n",
    "    con=mysql.connect(host='localhost',user='root',passwd='1234',auth_plugin='mysql_native_password')\n",
    "    cur = con.cursor()  \n",
    "    \n",
    "    #fetch MYSQL version\n",
    "    print(\"-----------------------------------------\")\n",
    "    cur.execute('SELECT VERSION()')\n",
    "    data = cur.fetchone()\n",
    "    print (\"MYSQL version: %s\" % data)         \n",
    "except mysql.Error as e:\n",
    "    print('Execption1')\n",
    "    print (\"Error :\",e)\n",
    "except  e:   \n",
    "    print (\"Error %s:\" % e.args[0])\n",
    "    sys.exit(1)\n",
    "finally:    \n",
    "    if con:\n",
    "        con.close()"
   ]
  },
  {
   "cell_type": "code",
   "execution_count": 6,
   "id": "95ffc850",
   "metadata": {},
   "outputs": [
    {
     "name": "stdout",
     "output_type": "stream",
     "text": [
      "-----------------------------------------\n",
      "-----------------------------------------\n"
     ]
    }
   ],
   "source": [
    "'''Doing CRUD operations in the Test Database using python script and sql queries'''\n",
    "\n",
    "#connect to MYSQL test database  \n",
    "import mysql.connector\n",
    "\n",
    "con=mysql.connector.connect(host='localhost',user='root',passwd='1234',auth_plugin='mysql_native_password',database='test')\n",
    "\n",
    "cur = con.cursor()    \n",
    "cur.execute(\"DROP Table IF EXISTS customer\")\n",
    "    #print(\"-----------------------------------------\")\n",
    "cur.execute(\"CREATE TABLE if not exists customer (Customer_id int, Customer_Name Varchar(50),Phone_Number Varchar(10))\")\n",
    "\n",
    "'''Inserting the data into the Customer table'''\n",
    "\n",
    "cur.execute(\"insert into customer(Customer_Id,Customer_Name,Phone_Number)values(999,'Ujwal Singh',9956223312)\")\n",
    "\n",
    "'''Updating the exisitng data in the Customer Table'''\n",
    "cur.execute(\"update customer Set Customer_name='Sharan', Phone_number='6699442211' where customer_Id=999\")\n",
    "    \n",
    "con.commit()\n",
    "\n",
    "    \n",
    "con.close()"
   ]
  },
  {
   "cell_type": "code",
   "execution_count": 9,
   "id": "83932aba",
   "metadata": {},
   "outputs": [
    {
     "name": "stdout",
     "output_type": "stream",
     "text": [
      "Succesfully updated the data\n"
     ]
    }
   ],
   "source": [
    "'''Doing CRUD operations in the Test Database using python script and sql queries'''\n",
    "\n",
    "#connect to MYSQL test database  \n",
    "import mysql.connector\n",
    "\n",
    "con=mysql.connector.connect(host='localhost',user='root',passwd='1234',auth_plugin='mysql_native_password',database='test')\n",
    "\n",
    "cur = con.cursor()    \n",
    " \n",
    "'''Inserting the data into the Customer table'''\n",
    "\n",
    "cur.execute(\"insert into customer(Customer_Id,Customer_Name,Phone_Number)values(6785,'Girish Kumar',7667547699)\")\n",
    "cur.execute(\"insert into customer(Customer_Id,Customer_Name,Phone_Number)values(6786,'Ajay',8565677899)\")\n",
    "cur.execute(\"insert into customer(Customer_Id,Customer_Name,Phone_Number)values(6787,'Punith',9875653579)\")\n",
    "\n",
    "con.commit()\n",
    "\n",
    "print(\"Succesfully updated the data\")\n",
    "    \n",
    "con.close()"
   ]
  },
  {
   "cell_type": "code",
   "execution_count": 11,
   "id": "65409221",
   "metadata": {},
   "outputs": [
    {
     "name": "stdout",
     "output_type": "stream",
     "text": [
      "(999, 'Sharan', '6699442211')\n",
      "(6785, 'Girish Kumar', '7667547699')\n",
      "(6786, 'Ajay', '8565677899')\n",
      "(6787, 'Punith', '9875653579')\n"
     ]
    }
   ],
   "source": [
    "'''Fetching the data from the table using Select * command'''\n",
    "\n",
    "#connect to MYSQL test database  \n",
    "import mysql.connector\n",
    "\n",
    "con=mysql.connector.connect(host='localhost',user='root',passwd='1234',auth_plugin='mysql_native_password',database='test')\n",
    "\n",
    "cur = con.cursor()    \n",
    "    \n",
    "cur.execute(\"SELECT * FROM customer\")\n",
    "rows = cur.fetchall()\n",
    "    \n",
    "    #print(\"ROWS TYPE IS:\",type(rows))\n",
    "for row in rows:\n",
    "#     print(\"ROW IN ROWS TYPE IS:\",type(row))\n",
    "    print (row)\n",
    "    \n",
    "con.close()"
   ]
  },
  {
   "cell_type": "code",
   "execution_count": 14,
   "id": "9ba1dc92",
   "metadata": {},
   "outputs": [
    {
     "name": "stdout",
     "output_type": "stream",
     "text": [
      "(99881, 'Krishna', datetime.date(2000, 8, 1))\n",
      "(99882, 'Raj Kumar', datetime.date(2020, 8, 2))\n",
      "Succesfully updated the data\n"
     ]
    }
   ],
   "source": [
    "'''Inserting the data into Employee table'''\n",
    "\n",
    "#connect to MYSQL test database  \n",
    "import mysql.connector\n",
    "\n",
    "con=mysql.connector.connect(host='localhost',user='root',passwd='1234',auth_plugin='mysql_native_password',database='test')\n",
    "\n",
    "cur = con.cursor()    \n",
    " \n",
    "'''Inserting the data into the employee table'''\n",
    "\n",
    "cur.execute(\"insert into employee(Employee_Id, Employee_Name, Employee_HireDate)values(99881,'Krishna', '2000-08-01')\")\n",
    "cur.execute(\"insert into employee(Employee_Id, Employee_Name, Employee_HireDate)values(99882,'Raj Kumar', '2020-08-02')\")\n",
    "\n",
    "con.commit()\n",
    "\n",
    "cur.execute(\"SELECT * FROM employee\")\n",
    "rows = cur.fetchall()\n",
    "    \n",
    "    #print(\"ROWS TYPE IS:\",type(rows))\n",
    "for row in rows:\n",
    "#     print(\"ROW IN ROWS TYPE IS:\",type(row))\n",
    "    print (row)\n",
    "\n",
    "print(\"Succesfully updated the data\")\n",
    "    \n",
    "con.close()"
   ]
  },
  {
   "cell_type": "markdown",
   "id": "5395b027",
   "metadata": {},
   "source": [
    "Product_id|name|Availability\n",
    "655|Soaps|Yes\n",
    "999|Detergent|No\n",
    "1020|Dry fruits|Yes"
   ]
  },
  {
   "cell_type": "code",
   "execution_count": 15,
   "id": "cc7869ef",
   "metadata": {},
   "outputs": [
    {
     "name": "stdout",
     "output_type": "stream",
     "text": [
      "(655, 'soaps', 'Yes')\n",
      "(999, 'Detergent', 'No')\n",
      "Succesfully updated the data\n"
     ]
    }
   ],
   "source": [
    "'''Inserting the data into product table'''\n",
    "\n",
    "#connect to MYSQL test database  \n",
    "import mysql.connector\n",
    "\n",
    "con=mysql.connector.connect(host='localhost',user='root',passwd='1234',auth_plugin='mysql_native_password',database='test')\n",
    "\n",
    "cur = con.cursor()    \n",
    "\n",
    "cur.execute(\"insert into product(Product_id, Name, Availability)values(655,'soaps', 'Yes')\")\n",
    "cur.execute(\"insert into product(Product_id, Name, Availability)values(999,'Detergent', 'No')\")\n",
    "\n",
    "con.commit()\n",
    "\n",
    "cur.execute(\"SELECT * FROM product\")\n",
    "rows = cur.fetchall()\n",
    "    \n",
    "    #print(\"ROWS TYPE IS:\",type(rows))\n",
    "for row in rows:\n",
    "#     print(\"ROW IN ROWS TYPE IS:\",type(row))\n",
    "    print (row)\n",
    "\n",
    "print(\"Succesfully updated the data\")\n",
    "    \n",
    "con.close()"
   ]
  },
  {
   "cell_type": "code",
   "execution_count": null,
   "id": "179e10c5",
   "metadata": {},
   "outputs": [],
   "source": []
  }
 ],
 "metadata": {
  "kernelspec": {
   "display_name": "Python 3 (ipykernel)",
   "language": "python",
   "name": "python3"
  },
  "language_info": {
   "codemirror_mode": {
    "name": "ipython",
    "version": 3
   },
   "file_extension": ".py",
   "mimetype": "text/x-python",
   "name": "python",
   "nbconvert_exporter": "python",
   "pygments_lexer": "ipython3",
   "version": "3.7.2"
  }
 },
 "nbformat": 4,
 "nbformat_minor": 5
}
